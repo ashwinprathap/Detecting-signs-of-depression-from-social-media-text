{
  "nbformat": 4,
  "nbformat_minor": 0,
  "metadata": {
    "colab": {
      "provenance": []
    },
    "kernelspec": {
      "name": "python3",
      "display_name": "Python 3"
    },
    "language_info": {
      "name": "python"
    }
  },
  "cells": [
    {
      "cell_type": "code",
      "execution_count": 1,
      "metadata": {
        "id": "JKrXhMCrwU_H"
      },
      "outputs": [],
      "source": [
        "import pandas as pd\n",
        "import numpy as np\n",
        "import spacy\n",
        "import string\n",
        "from sklearn.model_selection import train_test_split\n",
        "from sklearn.pipeline import Pipeline\n",
        "from sklearn.metrics import accuracy_score, precision_score, recall_score, f1_score, classification_report\n",
        "import gensim.downloader as api"
      ]
    },
    {
      "cell_type": "code",
      "source": [
        "review = pd.read_csv(\"Augdata.csv\")\n",
        "review = review.rename(columns={'Text data': 'data'}, inplace=False)"
      ],
      "metadata": {
        "id": "VsBTCaSJxATl"
      },
      "execution_count": 3,
      "outputs": []
    },
    {
      "cell_type": "code",
      "source": [
        "nlp = spacy.load(\"en_core_web_sm\")\n",
        "stop_words = nlp.Defaults.stop_words\n",
        "punctuations = string.punctuation"
      ],
      "metadata": {
        "id": "bjgOJu2D0fTv"
      },
      "execution_count": 4,
      "outputs": []
    },
    {
      "cell_type": "code",
      "source": [
        "wv = api.load('glove-twitter-100')"
      ],
      "metadata": {
        "colab": {
          "base_uri": "https://localhost:8080/"
        },
        "id": "dgIDoHSK0nYm",
        "outputId": "a660ead6-2773-41ea-e3d3-790bb8d79342"
      },
      "execution_count": 5,
      "outputs": [
        {
          "output_type": "stream",
          "name": "stdout",
          "text": [
            "[==================================================] 100.0% 387.1/387.1MB downloaded\n"
          ]
        }
      ]
    },
    {
      "cell_type": "code",
      "source": [
        "def spacy_tokenizer(sentence):\n",
        "    # Creating our token object, which is used to create documents with linguistic annotations.\n",
        "    doc = nlp(sentence)\n",
        "\n",
        "    # Lemmatizing each token and converting each token into lowercase\n",
        "    mytokens = [word.lemma_.lower().strip() for word in doc]\n",
        "\n",
        "    # Removing stop words and punctuations\n",
        "    mytokens = [word for word in mytokens if word not in stop_words and word not in punctuations]\n",
        "\n",
        "    # Return preprocessed list of tokens\n",
        "    return mytokens"
      ],
      "metadata": {
        "id": "cKJbO7n31f6j"
      },
      "execution_count": 6,
      "outputs": []
    },
    {
      "cell_type": "code",
      "source": [
        "review['data1'] = review['data'].apply(spacy_tokenizer)"
      ],
      "metadata": {
        "id": "kTbwpSBu2A-w"
      },
      "execution_count": 7,
      "outputs": []
    },
    {
      "cell_type": "code",
      "source": [
        "# Generate word vectors for each document\n",
        "review['vec'] = review['data1'].apply(lambda x: np.mean([wv[token] for token in x if token in wv] or [np.zeros(wv.vector_size)], axis=0))"
      ],
      "metadata": {
        "id": "cRYFq8M42Cyq"
      },
      "execution_count": 8,
      "outputs": []
    },
    {
      "cell_type": "code",
      "source": [
        "X = np.vstack(review['vec'])  # Convert list of arrays to a matrix\n",
        "y = review['Label']"
      ],
      "metadata": {
        "id": "BZrEc1552mZg"
      },
      "execution_count": 9,
      "outputs": []
    },
    {
      "cell_type": "markdown",
      "source": [
        "# **LogisticRegression**"
      ],
      "metadata": {
        "id": "ZKhpLLVW4xPK"
      }
    },
    {
      "cell_type": "code",
      "source": [
        "from sklearn.linear_model import LogisticRegression"
      ],
      "metadata": {
        "id": "cQSQkgt-32Rh"
      },
      "execution_count": 10,
      "outputs": []
    },
    {
      "cell_type": "code",
      "source": [
        "X_train, X_test, y_train, y_test = train_test_split(X, y, train_size=0.8, random_state=1)"
      ],
      "metadata": {
        "id": "hUZPnHk14Acl"
      },
      "execution_count": 12,
      "outputs": []
    },
    {
      "cell_type": "code",
      "source": [
        "# Define the model pipeline with Logistic Regression\n",
        "model_pipeline_lr = Pipeline([\n",
        "    ('lr', LogisticRegression(max_iter=1000))  # Increase max_iter to 1000 or more\n",
        "])\n",
        "\n",
        "# Train the model\n",
        "model_pipeline_lr.fit(X_train, y_train)\n",
        "\n",
        "# Predict on the test set\n",
        "y_pred_lr = model_pipeline_lr.predict(X_test)\n"
      ],
      "metadata": {
        "id": "sWsRouJo33yx"
      },
      "execution_count": 13,
      "outputs": []
    },
    {
      "cell_type": "code",
      "source": [
        "# Evaluate the model\n",
        "accuracy_lr = accuracy_score(y_test, y_pred_lr)\n",
        "precision_lr = precision_score(y_test, y_pred_lr, average='weighted')\n",
        "recall_lr = recall_score(y_test, y_pred_lr, average='weighted')\n",
        "f1_score_lr = f1_score(y_test, y_pred_lr, average='weighted')\n",
        "classification_report_lr = classification_report(y_test, y_pred_lr)\n",
        "\n",
        "# Print evaluation metrics\n",
        "print(\"Evaluation Metrics for Logistic Regression Model\")\n",
        "print(\"------------------------------------------------\")\n",
        "print(classification_report_lr)"
      ],
      "metadata": {
        "colab": {
          "base_uri": "https://localhost:8080/"
        },
        "id": "DH-8iqVA4WU3",
        "outputId": "54873b66-c0e9-4344-e40c-1461b440519f"
      },
      "execution_count": 14,
      "outputs": [
        {
          "output_type": "stream",
          "name": "stdout",
          "text": [
            "Evaluation Metrics for Logistic Regression Model\n",
            "------------------------------------------------\n",
            "                precision    recall  f1-score   support\n",
            "\n",
            "      moderate       0.57      0.77      0.65       460\n",
            "not depression       0.54      0.34      0.41       358\n",
            "        severe       0.82      0.75      0.78       298\n",
            "\n",
            "      accuracy                           0.62      1116\n",
            "     macro avg       0.64      0.62      0.62      1116\n",
            "  weighted avg       0.63      0.62      0.61      1116\n",
            "\n"
          ]
        }
      ]
    },
    {
      "cell_type": "markdown",
      "source": [
        "# **RandomForest**"
      ],
      "metadata": {
        "id": "miLkWw8b5BIp"
      }
    },
    {
      "cell_type": "code",
      "source": [
        "from sklearn.ensemble import RandomForestClassifier"
      ],
      "metadata": {
        "id": "iw5Uedca5anQ"
      },
      "execution_count": 15,
      "outputs": []
    },
    {
      "cell_type": "code",
      "source": [
        "# Define the model pipeline with Logistic Regression\n",
        "model_pipeline_lr = Pipeline([\n",
        "    ('lr', RandomForestClassifier())\n",
        "])\n",
        "\n",
        "# Train the model\n",
        "model_pipeline_lr.fit(X_train, y_train)\n",
        "\n",
        "# Predict on the test set\n",
        "y_pred_lr = model_pipeline_lr.predict(X_test)"
      ],
      "metadata": {
        "id": "rDftlYpG5hGl"
      },
      "execution_count": 16,
      "outputs": []
    },
    {
      "cell_type": "code",
      "source": [
        "# Evaluate the model\n",
        "accuracy_lr = accuracy_score(y_test, y_pred_lr)\n",
        "precision_lr = precision_score(y_test, y_pred_lr, average='weighted')\n",
        "recall_lr = recall_score(y_test, y_pred_lr, average='weighted')\n",
        "f1_score_lr = f1_score(y_test, y_pred_lr, average='weighted')\n",
        "classification_report_lr = classification_report(y_test, y_pred_lr)\n",
        "\n",
        "# Print evaluation metrics\n",
        "print(\"Evaluation Metrics for RandomForest\")\n",
        "print(\"------------------------------------------------\")\n",
        "print(classification_report_lr)"
      ],
      "metadata": {
        "colab": {
          "base_uri": "https://localhost:8080/"
        },
        "id": "etqlBJr_58Rc",
        "outputId": "7dfbf4b8-3d92-4219-812b-5fb6ac273f9c"
      },
      "execution_count": 18,
      "outputs": [
        {
          "output_type": "stream",
          "name": "stdout",
          "text": [
            "Evaluation Metrics for RandomForest\n",
            "------------------------------------------------\n",
            "                precision    recall  f1-score   support\n",
            "\n",
            "      moderate       0.59      0.69      0.64       460\n",
            "not depression       0.59      0.54      0.56       358\n",
            "        severe       0.91      0.76      0.83       298\n",
            "\n",
            "      accuracy                           0.66      1116\n",
            "     macro avg       0.70      0.66      0.68      1116\n",
            "  weighted avg       0.68      0.66      0.67      1116\n",
            "\n"
          ]
        }
      ]
    },
    {
      "cell_type": "markdown",
      "source": [
        "# **DecisionTree**"
      ],
      "metadata": {
        "id": "ahKGoWZ96UWt"
      }
    },
    {
      "cell_type": "code",
      "source": [
        "from sklearn.tree import DecisionTreeClassifier"
      ],
      "metadata": {
        "id": "atWYUJTb6-Pg"
      },
      "execution_count": 19,
      "outputs": []
    },
    {
      "cell_type": "code",
      "source": [
        "# Define the model pipeline with Logistic Regression\n",
        "model_pipeline_lr = Pipeline([\n",
        "    ('lr', DecisionTreeClassifier())  # Increase max_iter to 1000 or more\n",
        "])\n",
        "\n",
        "# Train the model\n",
        "model_pipeline_lr.fit(X_train, y_train)\n",
        "\n",
        "# Predict on the test set\n",
        "y_pred_lr = model_pipeline_lr.predict(X_test)"
      ],
      "metadata": {
        "id": "PPJKWQ2n7BLB"
      },
      "execution_count": 20,
      "outputs": []
    },
    {
      "cell_type": "code",
      "source": [
        "# Evaluate the model\n",
        "accuracy_lr = accuracy_score(y_test, y_pred_lr)\n",
        "precision_lr = precision_score(y_test, y_pred_lr, average='weighted')\n",
        "recall_lr = recall_score(y_test, y_pred_lr, average='weighted')\n",
        "f1_score_lr = f1_score(y_test, y_pred_lr, average='weighted')\n",
        "classification_report_lr = classification_report(y_test, y_pred_lr)\n",
        "\n",
        "# Print evaluation metrics\n",
        "print(\"Evaluation Metrics for DecisionTree\")\n",
        "print(\"------------------------------------------------\")\n",
        "print(classification_report_lr)"
      ],
      "metadata": {
        "colab": {
          "base_uri": "https://localhost:8080/"
        },
        "id": "xZe1gqT_Iw5M",
        "outputId": "cd97d8b0-d1a8-42b8-f754-d45ff8778530"
      },
      "execution_count": 21,
      "outputs": [
        {
          "output_type": "stream",
          "name": "stdout",
          "text": [
            "Evaluation Metrics for DecisionTree\n",
            "------------------------------------------------\n",
            "                precision    recall  f1-score   support\n",
            "\n",
            "      moderate       0.55      0.50      0.53       460\n",
            "not depression       0.45      0.48      0.47       358\n",
            "        severe       0.68      0.72      0.70       298\n",
            "\n",
            "      accuracy                           0.55      1116\n",
            "     macro avg       0.56      0.57      0.56      1116\n",
            "  weighted avg       0.55      0.55      0.55      1116\n",
            "\n"
          ]
        }
      ]
    },
    {
      "cell_type": "markdown",
      "source": [
        "# **SVM**"
      ],
      "metadata": {
        "id": "hE7ywrCRJwbr"
      }
    },
    {
      "cell_type": "code",
      "source": [
        "from sklearn.svm import SVC"
      ],
      "metadata": {
        "id": "D2WGY4r9J1w1"
      },
      "execution_count": 22,
      "outputs": []
    },
    {
      "cell_type": "code",
      "source": [
        "# Define the model pipeline with Logistic Regression\n",
        "model_pipeline_lr = Pipeline([\n",
        "    ('lr', SVC())  # Increase max_iter to 1000 or more\n",
        "])\n",
        "\n",
        "# Train the model\n",
        "model_pipeline_lr.fit(X_train, y_train)\n",
        "\n",
        "# Predict on the test set\n",
        "y_pred_lr = model_pipeline_lr.predict(X_test)"
      ],
      "metadata": {
        "id": "G4bzRt_aJ7rU"
      },
      "execution_count": 23,
      "outputs": []
    },
    {
      "cell_type": "code",
      "source": [
        "# Evaluate the model\n",
        "accuracy_lr = accuracy_score(y_test, y_pred_lr)\n",
        "precision_lr = precision_score(y_test, y_pred_lr, average='weighted')\n",
        "recall_lr = recall_score(y_test, y_pred_lr, average='weighted')\n",
        "f1_score_lr = f1_score(y_test, y_pred_lr, average='weighted')\n",
        "classification_report_lr = classification_report(y_test, y_pred_lr)\n",
        "\n",
        "# Print evaluation metrics\n",
        "print(\"Evaluation Metrics for SVM\")\n",
        "print(\"------------------------------------------------\")\n",
        "print(classification_report_lr)"
      ],
      "metadata": {
        "colab": {
          "base_uri": "https://localhost:8080/"
        },
        "id": "JuVLowrBKB32",
        "outputId": "33a7d32b-42b8-498f-e0f8-e58b0bcac6ff"
      },
      "execution_count": 25,
      "outputs": [
        {
          "output_type": "stream",
          "name": "stdout",
          "text": [
            "Evaluation Metrics for SVM\n",
            "------------------------------------------------\n",
            "                precision    recall  f1-score   support\n",
            "\n",
            "      moderate       0.57      0.87      0.69       460\n",
            "not depression       0.70      0.34      0.46       358\n",
            "        severe       0.89      0.72      0.80       298\n",
            "\n",
            "      accuracy                           0.66      1116\n",
            "     macro avg       0.72      0.64      0.65      1116\n",
            "  weighted avg       0.70      0.66      0.64      1116\n",
            "\n"
          ]
        }
      ]
    }
  ]
}