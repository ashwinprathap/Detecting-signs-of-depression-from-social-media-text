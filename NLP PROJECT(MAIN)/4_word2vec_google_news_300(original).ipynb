{
  "nbformat": 4,
  "nbformat_minor": 0,
  "metadata": {
    "colab": {
      "provenance": []
    },
    "kernelspec": {
      "name": "python3",
      "display_name": "Python 3"
    },
    "language_info": {
      "name": "python"
    }
  },
  "cells": [
    {
      "cell_type": "code",
      "execution_count": 1,
      "metadata": {
        "id": "Bi0eTxAtwaWi"
      },
      "outputs": [],
      "source": [
        "import pandas as pd\n",
        "import numpy as np\n",
        "import spacy\n",
        "import string\n",
        "from sklearn.model_selection import train_test_split\n",
        "from sklearn.pipeline import Pipeline\n",
        "from sklearn.linear_model import LogisticRegression\n",
        "from sklearn.metrics import accuracy_score, precision_score, recall_score, f1_score, classification_report\n",
        "import gensim.downloader as api"
      ]
    },
    {
      "cell_type": "code",
      "source": [
        "review = pd.read_csv('dev_with_labels.tsv', delimiter='\\t')\n",
        "review = review.rename(columns={'Text data': 'data'}, inplace=False)"
      ],
      "metadata": {
        "id": "ErD6kuP-xFIC"
      },
      "execution_count": 3,
      "outputs": []
    },
    {
      "cell_type": "code",
      "source": [
        "# Load spaCy model and define stop words\n",
        "nlp = spacy.load(\"en_core_web_sm\")\n",
        "stop_words = nlp.Defaults.stop_words\n",
        "punctuations = string.punctuation"
      ],
      "metadata": {
        "id": "KldzuYAWxLgb"
      },
      "execution_count": 4,
      "outputs": []
    },
    {
      "cell_type": "code",
      "source": [
        "wv = api.load('word2vec-google-news-300')"
      ],
      "metadata": {
        "id": "OiRpRwxWx_4A",
        "colab": {
          "base_uri": "https://localhost:8080/"
        },
        "outputId": "2d5f492d-b60e-45ee-a7cb-160939f50e38"
      },
      "execution_count": 5,
      "outputs": [
        {
          "output_type": "stream",
          "name": "stdout",
          "text": [
            "[==================================================] 100.0% 1662.8/1662.8MB downloaded\n"
          ]
        }
      ]
    },
    {
      "cell_type": "code",
      "source": [
        "def spacy_tokenizer(sentence):\n",
        "    # Creating our token object, which is used to create documents with linguistic annotations.\n",
        "    doc = nlp(sentence)\n",
        "\n",
        "    # Lemmatizing each token and converting each token into lowercase\n",
        "    mytokens = [word.lemma_.lower().strip() for word in doc]\n",
        "\n",
        "    # Removing stop words and punctuations\n",
        "    mytokens = [word for word in mytokens if word not in stop_words and word not in punctuations]\n",
        "\n",
        "    # Return preprocessed list of tokens\n",
        "    return mytokens"
      ],
      "metadata": {
        "id": "D2dfr8AjucrN"
      },
      "execution_count": 6,
      "outputs": []
    },
    {
      "cell_type": "code",
      "source": [
        "review['data1'] = review['data'].apply(spacy_tokenizer)"
      ],
      "metadata": {
        "id": "8Du6l2cvu8Uq"
      },
      "execution_count": 7,
      "outputs": []
    },
    {
      "cell_type": "code",
      "source": [
        "review['vec'] = review['data1'].apply(lambda x: np.mean([wv[token] for token in x if token in wv] or [np.zeros(wv.vector_size)], axis=0))"
      ],
      "metadata": {
        "id": "DJF5PTS8vD_d"
      },
      "execution_count": 8,
      "outputs": []
    },
    {
      "cell_type": "code",
      "source": [
        "# Split the dataset into features (X) and labels (y)\n",
        "X = np.vstack(review['vec'])  # Convert list of arrays to a matrix\n",
        "y = review['Label']\n"
      ],
      "metadata": {
        "id": "ULfYJQDevnO3"
      },
      "execution_count": 9,
      "outputs": []
    },
    {
      "cell_type": "code",
      "source": [
        "X_train, X_test, y_train, y_test = train_test_split(X, y, train_size=0.8, random_state=1)"
      ],
      "metadata": {
        "id": "njO0RVoYwSRI"
      },
      "execution_count": 10,
      "outputs": []
    },
    {
      "cell_type": "code",
      "source": [
        "# Define the model pipeline with Logistic Regression\n",
        "model_pipeline_lr = Pipeline([\n",
        "    ('lr', LogisticRegression(max_iter=1000))  # Increase max_iter to 1000 or more\n",
        "])\n",
        "\n",
        "# Train the model\n",
        "model_pipeline_lr.fit(X_train, y_train)\n",
        "\n",
        "# Predict on the test set\n",
        "y_pred_lr = model_pipeline_lr.predict(X_test)"
      ],
      "metadata": {
        "id": "sLPslyShwTHj"
      },
      "execution_count": 11,
      "outputs": []
    },
    {
      "cell_type": "code",
      "source": [
        "# Evaluate the model\n",
        "accuracy_lr = accuracy_score(y_test, y_pred_lr)\n",
        "precision_lr = precision_score(y_test, y_pred_lr, average='weighted')\n",
        "recall_lr = recall_score(y_test, y_pred_lr, average='weighted')\n",
        "f1_score_lr = f1_score(y_test, y_pred_lr, average='weighted')\n",
        "classification_report_lr = classification_report(y_test, y_pred_lr)\n",
        "\n",
        "# Print evaluation metrics\n",
        "print(\"Evaluation Metrics for Logistic Regression Model\")\n",
        "print(\"------------------------------------------------\")\n",
        "print(classification_report_lr)"
      ],
      "metadata": {
        "id": "zDnu622ewbRf",
        "colab": {
          "base_uri": "https://localhost:8080/"
        },
        "outputId": "c03f378a-571a-4bd6-8d85-82c80c545c8a"
      },
      "execution_count": 12,
      "outputs": [
        {
          "output_type": "stream",
          "name": "stdout",
          "text": [
            "Evaluation Metrics for Logistic Regression Model\n",
            "------------------------------------------------\n",
            "                precision    recall  f1-score   support\n",
            "\n",
            "      moderate       0.56      0.83      0.67       455\n",
            "not depression       0.60      0.35      0.45       363\n",
            "        severe       0.75      0.11      0.19        82\n",
            "\n",
            "      accuracy                           0.57       900\n",
            "     macro avg       0.64      0.43      0.44       900\n",
            "  weighted avg       0.59      0.57      0.53       900\n",
            "\n"
          ]
        }
      ]
    }
  ]
}