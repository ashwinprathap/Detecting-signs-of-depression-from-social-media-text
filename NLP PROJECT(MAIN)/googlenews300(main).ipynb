{
  "nbformat": 4,
  "nbformat_minor": 0,
  "metadata": {
    "colab": {
      "provenance": []
    },
    "kernelspec": {
      "name": "python3",
      "display_name": "Python 3"
    },
    "language_info": {
      "name": "python"
    }
  },
  "cells": [
    {
      "cell_type": "code",
      "execution_count": 1,
      "metadata": {
        "id": "YnDQjeHwNPcX"
      },
      "outputs": [],
      "source": [
        "import pandas as pd\n",
        "import numpy as np\n",
        "import spacy\n",
        "import string\n",
        "from sklearn.model_selection import train_test_split\n",
        "from sklearn.pipeline import Pipeline\n",
        "from sklearn.metrics import accuracy_score, precision_score, recall_score, f1_score, classification_report\n",
        "import gensim.downloader as api"
      ]
    },
    {
      "cell_type": "code",
      "source": [
        "review = pd.read_csv(\"Augdata.csv\")\n",
        "review = review.rename(columns={'Text data': 'data'}, inplace=False)"
      ],
      "metadata": {
        "id": "K6Vtj_0UOLB3"
      },
      "execution_count": 2,
      "outputs": []
    },
    {
      "cell_type": "code",
      "source": [
        "nlp = spacy.load(\"en_core_web_sm\")\n",
        "stop_words = nlp.Defaults.stop_words\n",
        "punctuations = string.punctuation"
      ],
      "metadata": {
        "id": "iA2kGi_xOs3M"
      },
      "execution_count": 3,
      "outputs": []
    },
    {
      "cell_type": "code",
      "source": [
        "wv = api.load('word2vec-google-news-300')"
      ],
      "metadata": {
        "colab": {
          "base_uri": "https://localhost:8080/"
        },
        "id": "4C5JxC7fO08j",
        "outputId": "c1f5bece-cf66-4306-e64d-1cb714fb1315"
      },
      "execution_count": 5,
      "outputs": [
        {
          "output_type": "stream",
          "name": "stdout",
          "text": [
            "[==================================================] 100.0% 1662.8/1662.8MB downloaded\n"
          ]
        }
      ]
    },
    {
      "cell_type": "code",
      "source": [
        "def spacy_tokenizer(sentence):\n",
        "    # Creating our token object, which is used to create documents with linguistic annotations.\n",
        "    doc = nlp(sentence)\n",
        "\n",
        "    # Lemmatizing each token and converting each token into lowercase\n",
        "    mytokens = [word.lemma_.lower().strip() for word in doc]\n",
        "\n",
        "    # Removing stop words and punctuations\n",
        "    mytokens = [word for word in mytokens if word not in stop_words and word not in punctuations]\n",
        "\n",
        "    # Return preprocessed list of tokens\n",
        "    return mytokens"
      ],
      "metadata": {
        "id": "4EyKkxJ3O3-H"
      },
      "execution_count": 6,
      "outputs": []
    },
    {
      "cell_type": "code",
      "source": [
        "review['data1'] = review['data'].apply(spacy_tokenizer)"
      ],
      "metadata": {
        "id": "jkIg0tavO7S9"
      },
      "execution_count": 7,
      "outputs": []
    },
    {
      "cell_type": "code",
      "source": [
        "# Generate word vectors for each document\n",
        "review['vec'] = review['data1'].apply(lambda x: np.mean([wv[token] for token in x if token in wv] or [np.zeros(wv.vector_size)], axis=0))"
      ],
      "metadata": {
        "id": "AVmQmWxjO-FO"
      },
      "execution_count": 8,
      "outputs": []
    },
    {
      "cell_type": "code",
      "source": [
        "X = np.vstack(review['vec'])  # Convert list of arrays to a matrix\n",
        "y = review['Label']"
      ],
      "metadata": {
        "id": "ssRu4d_yPHlg"
      },
      "execution_count": 9,
      "outputs": []
    },
    {
      "cell_type": "code",
      "source": [
        "X = np.vstack(review['vec'])  # Convert list of arrays to a matrix\n",
        "y = review['Label']"
      ],
      "metadata": {
        "id": "PUiNPSEwPOUP"
      },
      "execution_count": 10,
      "outputs": []
    },
    {
      "cell_type": "code",
      "source": [
        "X_train, X_test, y_train, y_test = train_test_split(X, y, train_size=0.8, random_state=1)"
      ],
      "metadata": {
        "id": "eJrSkUBZatRC"
      },
      "execution_count": 13,
      "outputs": []
    },
    {
      "cell_type": "markdown",
      "source": [
        "# **LogisticRegression**"
      ],
      "metadata": {
        "id": "RwheotNCPcx0"
      }
    },
    {
      "cell_type": "code",
      "source": [
        "from sklearn.linear_model import LogisticRegression"
      ],
      "metadata": {
        "id": "3parFAHoPVNM"
      },
      "execution_count": 11,
      "outputs": []
    },
    {
      "cell_type": "code",
      "source": [
        "model_pipeline_lr = Pipeline([\n",
        "    ('lr', LogisticRegression(max_iter=1000))  # Increase max_iter to 1000 or more\n",
        "])\n",
        "\n",
        "# Train the model\n",
        "model_pipeline_lr.fit(X_train, y_train)\n",
        "\n",
        "# Predict on the test set\n",
        "y_pred_lr = model_pipeline_lr.predict(X_test)"
      ],
      "metadata": {
        "id": "opvx6Sx6PiNp"
      },
      "execution_count": 14,
      "outputs": []
    },
    {
      "cell_type": "code",
      "source": [
        "accuracy_lr = accuracy_score(y_test, y_pred_lr)\n",
        "precision_lr = precision_score(y_test, y_pred_lr, average='weighted')\n",
        "recall_lr = recall_score(y_test, y_pred_lr, average='weighted')\n",
        "f1_score_lr = f1_score(y_test, y_pred_lr, average='weighted')\n",
        "classification_report_lr = classification_report(y_test, y_pred_lr)\n",
        "\n",
        "# Print evaluation metrics\n",
        "print(\"Evaluation Metrics for Logistic Regression Model\")\n",
        "print(\"------------------------------------------------\")\n",
        "print(classification_report_lr)"
      ],
      "metadata": {
        "colab": {
          "base_uri": "https://localhost:8080/"
        },
        "id": "dhQOF_rNPla1",
        "outputId": "d689e835-0b00-4bb8-fa35-fa48985cb28e"
      },
      "execution_count": 15,
      "outputs": [
        {
          "output_type": "stream",
          "name": "stdout",
          "text": [
            "Evaluation Metrics for Logistic Regression Model\n",
            "------------------------------------------------\n",
            "                precision    recall  f1-score   support\n",
            "\n",
            "      moderate       0.59      0.79      0.68       460\n",
            "not depression       0.59      0.40      0.47       358\n",
            "        severe       0.87      0.76      0.81       298\n",
            "\n",
            "      accuracy                           0.66      1116\n",
            "     macro avg       0.68      0.65      0.65      1116\n",
            "  weighted avg       0.66      0.66      0.65      1116\n",
            "\n"
          ]
        }
      ]
    },
    {
      "cell_type": "markdown",
      "source": [
        "# **DecisionTree**"
      ],
      "metadata": {
        "id": "HRRvN52PRM36"
      }
    },
    {
      "cell_type": "code",
      "source": [
        "from sklearn.tree import DecisionTreeClassifier"
      ],
      "metadata": {
        "id": "1TKwQGwIRRX-"
      },
      "execution_count": 16,
      "outputs": []
    },
    {
      "cell_type": "code",
      "source": [
        "model_pipeline_lr = Pipeline([\n",
        "    ('lr', DecisionTreeClassifier())\n",
        "])\n",
        "\n",
        "# Train the model\n",
        "model_pipeline_lr.fit(X_train, y_train)\n",
        "\n",
        "# Predict on the test set\n",
        "y_pred_lr = model_pipeline_lr.predict(X_test)"
      ],
      "metadata": {
        "id": "YvAvgxwxRXC6"
      },
      "execution_count": 17,
      "outputs": []
    },
    {
      "cell_type": "code",
      "source": [
        "accuracy_lr = accuracy_score(y_test, y_pred_lr)\n",
        "precision_lr = precision_score(y_test, y_pred_lr, average='weighted')\n",
        "recall_lr = recall_score(y_test, y_pred_lr, average='weighted')\n",
        "f1_score_lr = f1_score(y_test, y_pred_lr, average='weighted')\n",
        "classification_report_lr = classification_report(y_test, y_pred_lr)\n",
        "\n",
        "# Print evaluation metrics\n",
        "print(\"Evaluation Metrics DecisionTree\")\n",
        "print(\"------------------------------------------------\")\n",
        "print(classification_report_lr)"
      ],
      "metadata": {
        "colab": {
          "base_uri": "https://localhost:8080/"
        },
        "id": "MTTz0lsgRdFk",
        "outputId": "cd530955-5265-4d8e-fe3f-8a3f414020e7"
      },
      "execution_count": 18,
      "outputs": [
        {
          "output_type": "stream",
          "name": "stdout",
          "text": [
            "Evaluation Metrics DecisionTree\n",
            "------------------------------------------------\n",
            "                precision    recall  f1-score   support\n",
            "\n",
            "      moderate       0.56      0.55      0.56       460\n",
            "not depression       0.47      0.47      0.47       358\n",
            "        severe       0.69      0.69      0.69       298\n",
            "\n",
            "      accuracy                           0.57      1116\n",
            "     macro avg       0.57      0.57      0.57      1116\n",
            "  weighted avg       0.57      0.57      0.57      1116\n",
            "\n"
          ]
        }
      ]
    },
    {
      "cell_type": "markdown",
      "source": [
        "# **RandomForest**"
      ],
      "metadata": {
        "id": "wPESeCo-Rfgv"
      }
    },
    {
      "cell_type": "code",
      "source": [
        "from sklearn.ensemble import RandomForestClassifier"
      ],
      "metadata": {
        "id": "zXawV6xfR2ZT"
      },
      "execution_count": 19,
      "outputs": []
    },
    {
      "cell_type": "code",
      "source": [
        "model_pipeline_lr = Pipeline([\n",
        "    ('lr', RandomForestClassifier())\n",
        "])\n",
        "\n",
        "# Train the model\n",
        "model_pipeline_lr.fit(X_train, y_train)\n",
        "\n",
        "# Predict on the test set\n",
        "y_pred_lr = model_pipeline_lr.predict(X_test)"
      ],
      "metadata": {
        "id": "SzvaTYztR4dq"
      },
      "execution_count": 20,
      "outputs": []
    },
    {
      "cell_type": "code",
      "source": [
        "accuracy_lr = accuracy_score(y_test, y_pred_lr)\n",
        "precision_lr = precision_score(y_test, y_pred_lr, average='weighted')\n",
        "recall_lr = recall_score(y_test, y_pred_lr, average='weighted')\n",
        "f1_score_lr = f1_score(y_test, y_pred_lr, average='weighted')\n",
        "classification_report_lr = classification_report(y_test, y_pred_lr)\n",
        "\n",
        "# Print evaluation metrics\n",
        "print(\"Evaluation Metrics for RandomForest\")\n",
        "print(\"------------------------------------------------\")\n",
        "print(classification_report_lr)"
      ],
      "metadata": {
        "colab": {
          "base_uri": "https://localhost:8080/"
        },
        "id": "1dCkb3_bR8Gv",
        "outputId": "004520a9-41a7-4a1b-8445-c775f018d393"
      },
      "execution_count": 21,
      "outputs": [
        {
          "output_type": "stream",
          "name": "stdout",
          "text": [
            "Evaluation Metrics for RandomForest\n",
            "------------------------------------------------\n",
            "                precision    recall  f1-score   support\n",
            "\n",
            "      moderate       0.63      0.72      0.67       460\n",
            "not depression       0.62      0.57      0.59       358\n",
            "        severe       0.94      0.80      0.86       298\n",
            "\n",
            "      accuracy                           0.70      1116\n",
            "     macro avg       0.73      0.70      0.71      1116\n",
            "  weighted avg       0.71      0.70      0.70      1116\n",
            "\n"
          ]
        }
      ]
    },
    {
      "cell_type": "markdown",
      "source": [
        "# **SVM**"
      ],
      "metadata": {
        "id": "AE5mpwTGSrIX"
      }
    },
    {
      "cell_type": "code",
      "source": [
        "from sklearn.svm import SVC"
      ],
      "metadata": {
        "id": "xReMHuu7Suya"
      },
      "execution_count": 22,
      "outputs": []
    },
    {
      "cell_type": "code",
      "source": [
        "model_pipeline_lr = Pipeline([\n",
        "    ('lr', SVC())\n",
        "])\n",
        "\n",
        "# Train the model\n",
        "model_pipeline_lr.fit(X_train, y_train)\n",
        "\n",
        "# Predict on the test set\n",
        "y_pred_lr = model_pipeline_lr.predict(X_test)"
      ],
      "metadata": {
        "id": "T9AtPNAuSzTB"
      },
      "execution_count": 23,
      "outputs": []
    },
    {
      "cell_type": "code",
      "source": [
        "accuracy_lr = accuracy_score(y_test, y_pred_lr)\n",
        "precision_lr = precision_score(y_test, y_pred_lr, average='weighted')\n",
        "recall_lr = recall_score(y_test, y_pred_lr, average='weighted')\n",
        "f1_score_lr = f1_score(y_test, y_pred_lr, average='weighted')\n",
        "classification_report_lr = classification_report(y_test, y_pred_lr)\n",
        "\n",
        "# Print evaluation metrics\n",
        "print(\"Evaluation Metrics for SVM\")\n",
        "print(\"------------------------------------------------\")\n",
        "print(classification_report_lr)"
      ],
      "metadata": {
        "colab": {
          "base_uri": "https://localhost:8080/"
        },
        "id": "XNERy0DBS1L1",
        "outputId": "708dbe27-2ef5-4d9b-a1c4-1b5fb9a7133c"
      },
      "execution_count": 24,
      "outputs": [
        {
          "output_type": "stream",
          "name": "stdout",
          "text": [
            "Evaluation Metrics for SVM\n",
            "------------------------------------------------\n",
            "                precision    recall  f1-score   support\n",
            "\n",
            "      moderate       0.60      0.84      0.70       460\n",
            "not depression       0.70      0.44      0.54       358\n",
            "        severe       0.92      0.77      0.84       298\n",
            "\n",
            "      accuracy                           0.69      1116\n",
            "     macro avg       0.74      0.68      0.69      1116\n",
            "  weighted avg       0.72      0.69      0.68      1116\n",
            "\n"
          ]
        }
      ]
    }
  ]
}