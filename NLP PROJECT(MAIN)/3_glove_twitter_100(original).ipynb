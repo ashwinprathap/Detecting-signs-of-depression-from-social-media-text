{
  "nbformat": 4,
  "nbformat_minor": 0,
  "metadata": {
    "colab": {
      "provenance": []
    },
    "kernelspec": {
      "name": "python3",
      "display_name": "Python 3"
    },
    "language_info": {
      "name": "python"
    }
  },
  "cells": [
    {
      "cell_type": "code",
      "execution_count": null,
      "metadata": {
        "id": "YOHfVHW1MlpY"
      },
      "outputs": [],
      "source": [
        "import pandas as pd\n",
        "import numpy as np\n",
        "import spacy\n",
        "import string\n",
        "from sklearn.model_selection import train_test_split\n",
        "from sklearn.pipeline import Pipeline\n",
        "from sklearn.linear_model import LogisticRegression\n",
        "from sklearn.metrics import accuracy_score, precision_score, recall_score, f1_score,classification_report\n",
        "import gensim.downloader as api"
      ]
    },
    {
      "cell_type": "code",
      "source": [
        "review=pd.read_csv(\"dev_with_labels.tsv\",delimiter=\"\\t\")\n",
        "review=review.rename(columns={\"Text data\": \"data\"},inplace=False)\n"
      ],
      "metadata": {
        "id": "hV3_5NlwSrkL"
      },
      "execution_count": null,
      "outputs": []
    },
    {
      "cell_type": "code",
      "source": [
        "#load spacy\n",
        "nlp=spacy.load(\"en_core_web_sm\")\n",
        "stop_words=nlp.Defaults.stop_words\n",
        "punctuations=string.punctuation"
      ],
      "metadata": {
        "id": "fH3cAA_2hWMb"
      },
      "execution_count": null,
      "outputs": []
    },
    {
      "cell_type": "code",
      "source": [
        "wv=api.load(\"word2vec-google-news-300\")"
      ],
      "metadata": {
        "colab": {
          "base_uri": "https://localhost:8080/"
        },
        "id": "9lZR-GoAmoTe",
        "outputId": "2fda3ee1-5dab-4646-9cc3-65983c52a47c"
      },
      "execution_count": null,
      "outputs": [
        {
          "output_type": "stream",
          "name": "stdout",
          "text": [
            "[==================================================] 100.0% 1662.8/1662.8MB downloaded\n"
          ]
        }
      ]
    },
    {
      "cell_type": "code",
      "source": [
        "def spacy_tokenizer(sentence):\n",
        "    doc=nlp(sentence)\n",
        "    mytokens = [word.lemma_.lower().strip() for word in doc]\n",
        "    mytokens = [word for word in mytokens if word not in stop_words and word not in punctuations]\n",
        "    return mytokens\n"
      ],
      "metadata": {
        "id": "L8yA-teKmw5K"
      },
      "execution_count": null,
      "outputs": []
    },
    {
      "cell_type": "code",
      "source": [
        "review[\"data1\"]=review[\"data\"].apply(spacy_tokenizer)    #tokenizing text data"
      ],
      "metadata": {
        "id": "Gy5mEiIPrv-1"
      },
      "execution_count": null,
      "outputs": []
    },
    {
      "cell_type": "code",
      "source": [
        "review['vec'] = review['data1'].apply(lambda x: np.mean([wv[token] for token in x if token in wv] or [np.zeros(wv.vector_size)], axis=0))"
      ],
      "metadata": {
        "id": "_PDbcEFgqpac"
      },
      "execution_count": null,
      "outputs": []
    },
    {
      "cell_type": "code",
      "source": [
        "#split dataset\n",
        "x=np.vstack(review[\"vec\"])\n",
        "y=review[\"Label\"]\n",
        "x_train,x_test,y_train,y_test=train_test_split(x,y,train_size=0.8,random_state=1)"
      ],
      "metadata": {
        "id": "vLA-oz_utkoZ"
      },
      "execution_count": null,
      "outputs": []
    },
    {
      "cell_type": "code",
      "source": [
        "# Define the model pipeline with Logistic Regression\n",
        "model_pipeline_lr = Pipeline([\n",
        "    ('lr', LogisticRegression(max_iter=1000))  # Increase max_iter to 1000 or more\n",
        "])\n",
        "\n",
        "# Train the model\n",
        "model_pipeline_lr.fit(x_train, y_train)\n",
        "\n",
        "# Predict on the test set\n",
        "y_pred_lr = model_pipeline_lr.predict(x_test)"
      ],
      "metadata": {
        "id": "AYyvbVCSuxv_"
      },
      "execution_count": null,
      "outputs": []
    },
    {
      "cell_type": "code",
      "source": [
        "# Evaluate the model\n",
        "accuracy_lr = accuracy_score(y_test, y_pred_lr)\n",
        "precision_lr = precision_score(y_test, y_pred_lr, average='weighted')\n",
        "recall_lr = recall_score(y_test, y_pred_lr, average='weighted')\n",
        "f1_score_lr = f1_score(y_test, y_pred_lr, average='weighted')\n",
        "classification_report_lr = classification_report(y_test, y_pred_lr)\n",
        "\n",
        "# Print evaluation metrics\n",
        "print(\"Evaluation Metrics for Logistic Regression Model\")\n",
        "print(\"------------------------------------------------\")\n",
        "print(classification_report_lr)"
      ],
      "metadata": {
        "colab": {
          "base_uri": "https://localhost:8080/"
        },
        "id": "2pCEjd5BwIA4",
        "outputId": "d518592b-df52-4394-e2f1-165973a6a846"
      },
      "execution_count": null,
      "outputs": [
        {
          "output_type": "stream",
          "name": "stdout",
          "text": [
            "Evaluation Metrics for Logistic Regression Model\n",
            "------------------------------------------------\n",
            "                precision    recall  f1-score   support\n",
            "\n",
            "      moderate       0.56      0.83      0.67       455\n",
            "not depression       0.60      0.35      0.45       363\n",
            "        severe       0.75      0.11      0.19        82\n",
            "\n",
            "      accuracy                           0.57       900\n",
            "     macro avg       0.64      0.43      0.44       900\n",
            "  weighted avg       0.59      0.57      0.53       900\n",
            "\n"
          ]
        }
      ]
    }
  ]
}